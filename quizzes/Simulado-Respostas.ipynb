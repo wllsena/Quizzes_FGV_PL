{
 "cells": [
  {
   "cell_type": "code",
   "execution_count": null,
   "metadata": {},
   "outputs": [],
   "source": [
    "import os\n",
    "def mkdir(directory): \n",
    "    if not os.path.exists(directory):\n",
    "        os.makedirs(directory)\n",
    "        \n",
    "def touch(file):\n",
    "    if not os.path.exists(file):\n",
    "        open(file, \"w\").close()\n",
    "\n",
    "mkdir(\"dir1/dir2/dir3\")\n",
    "mkdir(\"dir1/dir4/dir5\")\n",
    "\n",
    "touch(\"dir1/dir2/dir3/file.txt\")"
   ]
  },
  {
   "cell_type": "code",
   "execution_count": null,
   "metadata": {},
   "outputs": [],
   "source": [
    "import numpy as np\n",
    "\n",
    "n = int(input())\n",
    "\n",
    "arr = np.zeros([n,n], dtype=int)\n",
    "nums = np.zeros([n,n], dtype=int)\n",
    "\n",
    "nums[:] = np.arange(1, n+1)\n",
    "\n",
    "for i in range(n):\n",
    "    for k in range(i, n):\n",
    "        if i % 2 == k % 2:\n",
    "            arr[i, k] = nums[i, k]"
   ]
  },
  {
   "cell_type": "code",
   "execution_count": null,
   "metadata": {},
   "outputs": [],
   "source": [
    "from IPython.display import clear_output\n",
    "import time\n",
    "\n",
    "n = int(input())\n",
    "cavalos = [None]*n\n",
    "posicoes = [0]*n\n",
    "\n",
    "for i in range(n):\n",
    "    ab = input().split()\n",
    "    cavalos[i] = (float(ab[0]), float(ab[1]))\n",
    "\n",
    "while max(posicoes) < 100:\n",
    "    clear_output()\n",
    "    for i in range(n):\n",
    "        a, b = cavalos[i] \n",
    "        posicoes[i] += np.random.normal(a, b)\n",
    "        print(i + 1, '-'*min(100, int(posicoes[i])) + ' '*max(0, (100 - int(posicoes[i]))) + '|')\n",
    "        \n",
    "    time.sleep(0.5)\n",
    "    \n",
    "for i, p in enumerate(posicoes):\n",
    "    if p == max(posicoes):\n",
    "        print(\"Cavalo {} venceu!\".format(i+1))"
   ]
  },
  {
   "cell_type": "markdown",
   "metadata": {},
   "source": [
    "#### 1. Supondo que o diretório atual esteja vazio, crie os meios (Python) para tornar possível o seguinte código."
   ]
  },
  {
   "cell_type": "code",
   "execution_count": null,
   "metadata": {},
   "outputs": [],
   "source": [
    "import os; os.rename(\"dir1/dir2/dir3/file.txt\", \"dir1/dir4/dir5/file.txt\")"
   ]
  },
  {
   "cell_type": "markdown",
   "metadata": {},
   "source": [
    "#### 2. Faça um programa, que dado um n informado pelo usuário, retorne o seguinte array $nxn$:"
   ]
  },
  {
   "cell_type": "markdown",
   "metadata": {},
   "source": [
    "```python\n",
    "# n impar\n",
    "array([[1, 0, 3, 0, 5, ..., n],\n",
    "       [0, 2, 0, 4, 0, ..., 0],\n",
    "       [0, 0, 3, 0, 5, ..., n],\n",
    "       [0, 0, 0, 4, 0, ..., 0],\n",
    "       [0, 0, 0, 0, 5, ..., n],\n",
    "                ...          ,\n",
    "       [0, 0, 0, 0, 0, ..., n]])\n",
    "```"
   ]
  },
  {
   "cell_type": "markdown",
   "metadata": {},
   "source": [
    "#### 3. Simule uma corrida de cavolos.\n",
    "O primeiro input contém um int positivo n, que representa o número de cavalos. <br>\n",
    "Os seguintes n inputs são 2 floats, velocidade média do cavalo e a variação. <br>\n",
    "Simule uma corrida de cavalos em que cada turno a distância que cada cavalo percorrer é um número aleatório de sua distribuição normal. <br>\n",
    "Cada turno dura 0.5 segundos.\n",
    "A pista possui 100 unidades de distância. \n",
    "\n",
    "Ex:\n",
    "\n",
    "3 <br>\n",
    "1.0 0.1 <br>\n",
    "1.1 0.11 <br>\n",
    "1.1 0.2 <br>\n",
    "\n",
    "final:\n",
    "\n",
    "```python\n",
    "\"\"\"\n",
    "1 -----------------------------------------------------------------------------------------           |\n",
    "2 ----------------------------------------------------------------------------------------------------|\n",
    "3 --------------------------------------------------------------------------------------------------- |\n",
    "Cavalo 2 venceu!\n",
    "\"\"\"\n",
    "```\n"
   ]
  }
 ],
 "metadata": {
  "kernelspec": {
   "display_name": "Python 3",
   "language": "python",
   "name": "python3"
  },
  "language_info": {
   "codemirror_mode": {
    "name": "ipython",
    "version": 3
   },
   "file_extension": ".py",
   "mimetype": "text/x-python",
   "name": "python",
   "nbconvert_exporter": "python",
   "pygments_lexer": "ipython3",
   "version": "3.7.4"
  }
 },
 "nbformat": 4,
 "nbformat_minor": 2
}
