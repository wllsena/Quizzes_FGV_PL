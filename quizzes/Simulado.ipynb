{
 "cells": [
  {
   "cell_type": "markdown",
   "metadata": {},
   "source": [
    "#### 1. Supondo que o diretório atual esteja vazio, crie os meios (Python) para tornar possível o seguinte código."
   ]
  },
  {
   "cell_type": "code",
   "execution_count": null,
   "metadata": {},
   "outputs": [],
   "source": [
    "import os; os.rename(\"dir1/dir2/dir3/file.txt\", \"dir1/dir4/dir5/file.txt\")"
   ]
  },
  {
   "cell_type": "markdown",
   "metadata": {},
   "source": [
    "#### 2. Faça um programa, que dado um n informado pelo usuário, retorne o seguinte array $nxn$:"
   ]
  },
  {
   "cell_type": "markdown",
   "metadata": {},
   "source": [
    "```python\n",
    "# n impar\n",
    "array([[1, 0, 3, 0, 5, ..., n],\n",
    "       [0, 2, 0, 4, 0, ..., 0],\n",
    "       [0, 0, 3, 0, 5, ..., n],\n",
    "       [0, 0, 0, 4, 0, ..., 0],\n",
    "       [0, 0, 0, 0, 5, ..., n],\n",
    "                ...          ,\n",
    "       [0, 0, 0, 0, 0, ..., n]])\n",
    "```"
   ]
  },
  {
   "cell_type": "markdown",
   "metadata": {},
   "source": [
    "#### 3. Simule uma corrida de cavolos.\n",
    "O primeiro input contém um int positivo n, que representa o número de cavalos. <br>\n",
    "Os seguintes n inputs são 2 floats, velocidade média do cavalo e a variação. <br>\n",
    "Simule uma corrida de cavalos em que cada turno a distância que cada cavalo percorrer é um número aleatório de sua distribuição normal. <br>\n",
    "Cada turno dura 0.5 segundos.\n",
    "A pista possui 100 unidades de distância. \n",
    "\n",
    "Ex:\n",
    "\n",
    "3 <br>\n",
    "1.0 0.1 <br>\n",
    "1.1 0.11 <br>\n",
    "1.1 0.2 <br>\n",
    "\n",
    "final:\n",
    "\n",
    "```python\n",
    "\"\"\"\n",
    "1 -----------------------------------------------------------------------------------------           |\n",
    "2 ----------------------------------------------------------------------------------------------------|\n",
    "3 --------------------------------------------------------------------------------------------------- |\n",
    "Cavalo 2 venceu!\n",
    "\"\"\"\n",
    "```\n"
   ]
  }
 ],
 "metadata": {
  "kernelspec": {
   "display_name": "Python 3",
   "language": "python",
   "name": "python3"
  },
  "language_info": {
   "codemirror_mode": {
    "name": "ipython",
    "version": 3
   },
   "file_extension": ".py",
   "mimetype": "text/x-python",
   "name": "python",
   "nbconvert_exporter": "python",
   "pygments_lexer": "ipython3",
   "version": "3.7.4"
  }
 },
 "nbformat": 4,
 "nbformat_minor": 2
}
