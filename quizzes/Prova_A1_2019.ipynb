{
 "cells": [
  {
   "cell_type": "markdown",
   "metadata": {},
   "source": [
    "# Prova A1 - Linguagens de Programação\n",
    "\n",
    "## Professor: Flávio Codeço Coelho\n",
    "Esta prova vale 12 pontos, mas a nota máxima será de 10 pontos.\n",
    "### Aluno: "
   ]
  },
  {
   "cell_type": "markdown",
   "metadata": {},
   "source": [
    "**Questão 1 (2 pontos):** Considere o seguinte código:\n",
    "\n",
    "```python\n",
    "import sys,os,re,fileinput; a=[\"exemplos/\" + i[2][0] for i in os.walk('exemplos') if i[2]]; [sys.stdout.write(re.sub('at','op',j)) for j in fileinput.FileInput(a,inplace=True)]\n",
    "```\n",
    " - Explique o que ele faz. \n",
    " - Construa um exemplo para demonstrar sua utilização. \n",
    " - Proponha uma modificação para tornar possível que este código, uma vez salvo em um script denominado `oneliner.py` seja utilizado da seguinte maneira: `python oneliner.py <arg1> <arg2>` onde `arg1` e `arg2` substituam as expressões regulares de `re.sub`. Esta modifição não pode adicionar novos imports ao código existente."
   ]
  },
  {
   "cell_type": "code",
   "execution_count": null,
   "metadata": {},
   "outputs": [],
   "source": []
  },
  {
   "cell_type": "markdown",
   "metadata": {},
   "source": [
    "**Questão 2 (2.5 pontos):** Usando apenas a biblioteca Numpy, complete a função abaixo para desenhar um Histograma no terminal usando apenas caracteres.\n",
    "\n",
    "```python\n",
    "def horizontal(dados, bins, height=4, character = '|', null_char = '_'):\n",
    "        \"\"\"retorna uma string multilinha contendo um\n",
    "       histograma dos dados.\n",
    "\n",
    "        :Parameters:\n",
    "            - `dados`: dados para o histograma\n",
    "            - `bins`: numero de classes do histograma\n",
    "            - `height`: altura maxima do histograma em caracteres\n",
    "            - `character`: caracter a ser utilizado\n",
    "            - `numm_chat`: caracter nulo a ser utilizado\n",
    "\n",
    "        >>> d = normal(size=1000)\n",
    "        >>> h = horizontal(d, 25, 5)\n",
    "        >>> print(h)\n",
    "            _________________________\n",
    "            ___________|_____________\n",
    "            __________||||___________\n",
    "            _________||||||__________\n",
    "            ________||||||||_________\n",
    "            _______||||||||||________\n",
    "            -4.10                4.16\n",
    "        \"\"\"\n",
    "```"
   ]
  },
  {
   "cell_type": "code",
   "execution_count": null,
   "metadata": {},
   "outputs": [],
   "source": []
  },
  {
   "cell_type": "markdown",
   "metadata": {},
   "source": [
    "**Questão 3 (2.5 pontos):** Imagens são representadas como arrays de três dimensões. Uma imagem de tamanho $MxN$ pixels é representada por uma array de dimensões $(M,N,3)$ ou $(M,N,4)$, com as dimensões correpondendo aos canais $r,g,b$ ou $r,g,b,a$, onde o $a$ representa o canal alfa ou de transparência. Podemos usar a função [matplotlib.pyplot.imread](https://matplotlib.org/3.1.1/api/_as_gen/matplotlib.pyplot.imread.html) para ler imagens em formato PNG, e podemos visualizá-las com [matplotlib.pyplot.imshow](https://matplotlib.org/3.1.1/api/_as_gen/matplotlib.axes.Axes.imshow.html#matplotlib.axes.Axes.imshow), como demonstrado no código abaixo. \n",
    "- Construa uma classe capaz de esconder uma mensagem de texto (ASCII) em uma imagem utilizando os bits do canal alfa para conter os caracteres. \n",
    "- A classe deve conter pelo menos dois métodos chamados `injeta_mensagem` e `extrai_mensagem`. Inclua linhas de código que usem a imagem fornecida `ada.png` para testar a sua classe com uma mensagem da sua escolha que ocupe pelo menos metade da capacidade de armazenamento da imagem. \n",
    "- mostre as imagens com e sem mensagens lado-a-lado para verificar se a mensagem causa alguma mudança perceptível (a olho nu) na imagem.\n",
    "- É possível codificar uma mensagem codificada como Unicode usando este método? Se sim, como?, se não, porquê?"
   ]
  },
  {
   "cell_type": "code",
   "execution_count": null,
   "metadata": {},
   "outputs": [],
   "source": []
  },
  {
   "cell_type": "markdown",
   "metadata": {},
   "source": [
    "**Questão 4 (5 pontos):** O índice de massa corporal ($IMC=Peso/Alt^2$, $Peso$ em quilos e $Alt$ em metros) é uma medida de associação entre peso e altura. Construa uma população como uma classe, que tenha as seguintes características:\n",
    "1. Os indivíduos tenham as seguintes características: sexo, altura e peso. Os indivíduos devem ser representados como tuplas. \n",
    "1. Sexo, altura e peso sejam gerados aleatoriamente. O sexo deve ser gerado a partir de uma binomial com p = 0.5. A altura (distribuição normal) média é de 170cm para homens e 160cm para mulheres, com desvios padrão de 2.5cm para ambos.\n",
    "1. O indice de massa corporal tenha distribuição normal com média 20 e desvio padrão 1.\n",
    "1. A classe seja capaz de retornar estatísticas (média, desvio padrão e histograma) sobre amostras da população de tamanho arbitrário (p.ex. 10 milhões) sem ter que manter listas de indivíduos na memória.\n",
    "1. Gere uma amostra de 1 milhão de indivíduos, calcule o IMC amostral e mostre que este aproxima a distribuição do IMC da população, para cada sexo.\n",
    "1. Calcule na amostra acima quantas pessoas apresentam obesidade, i.e. $IMC>30$.\n"
   ]
  },
  {
   "cell_type": "code",
   "execution_count": null,
   "metadata": {},
   "outputs": [],
   "source": []
  }
 ],
 "metadata": {
  "kernelspec": {
   "display_name": "Python 3",
   "language": "python",
   "name": "python3"
  },
  "language_info": {
   "codemirror_mode": {
    "name": "ipython",
    "version": 3
   },
   "file_extension": ".py",
   "mimetype": "text/x-python",
   "name": "python",
   "nbconvert_exporter": "python",
   "pygments_lexer": "ipython3",
   "version": "3.7.4"
  }
 },
 "nbformat": 4,
 "nbformat_minor": 4
}
