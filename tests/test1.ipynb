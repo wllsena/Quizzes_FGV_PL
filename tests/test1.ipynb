{
 "cells": [
  {
   "cell_type": "code",
   "execution_count": null,
   "metadata": {},
   "outputs": [],
   "source": [
    "import sys\n",
    "sys.path.append('../broker')\n",
    "import correct"
   ]
  },
  {
   "cell_type": "code",
   "execution_count": null,
   "metadata": {},
   "outputs": [],
   "source": [
    "t1 = correct.Test(\"prime\", 2.5, [11, 6, 3, 12, 17])\n",
    "t2 = correct.Test(\"unicos\", 2.5, [[205, 997, 2, 149], \n",
    "                                  [1, 18, 4, 4, 0, 18], \n",
    "                                  [67,67,67],\n",
    "                                  [17, 5, 3, 5], [0]]\n",
    "                  ,key = lambda a, b: sorted(a) == sorted(b))\n",
    "t3 = correct.Test(\"amigavel\", 2.5, [(17296,18416), (1,1), (1523,14342), (220,284), (2, 3)])\n",
    "t4 = correct.Test(\"sort\", 2.5, [[56, 26, 12, 34, 49, 90, 81, 20, 17], \n",
    "                                [4498, 1418, 976, 9083], \n",
    "                                [-7762, -8326, -4114, -7814],\n",
    "                                [0],\n",
    "                                [1,1,1,1,1,1]])"
   ]
  },
  {
   "cell_type": "code",
   "execution_count": null,
   "metadata": {},
   "outputs": [],
   "source": [
    "report = correct.report([t1,t2,t3,t4])"
   ]
  },
  {
   "cell_type": "code",
   "execution_count": null,
   "metadata": {
    "scrolled": true
   },
   "outputs": [],
   "source": [
    "report.get_grade()"
   ]
  },
  {
   "cell_type": "code",
   "execution_count": null,
   "metadata": {},
   "outputs": [],
   "source": [
    "report.get_report()"
   ]
  },
  {
   "cell_type": "code",
   "execution_count": null,
   "metadata": {},
   "outputs": [],
   "source": [
    "report.write_reports()"
   ]
  },
  {
   "cell_type": "code",
   "execution_count": null,
   "metadata": {},
   "outputs": [],
   "source": [
    "report.push_reports()"
   ]
  }
 ],
 "metadata": {
  "kernelspec": {
   "display_name": "Python 3",
   "language": "python",
   "name": "python3"
  },
  "language_info": {
   "codemirror_mode": {
    "name": "ipython",
    "version": 3
   },
   "file_extension": ".py",
   "mimetype": "text/x-python",
   "name": "python",
   "nbconvert_exporter": "python",
   "pygments_lexer": "ipython3",
   "version": "3.7.4"
  }
 },
 "nbformat": 4,
 "nbformat_minor": 2
}
