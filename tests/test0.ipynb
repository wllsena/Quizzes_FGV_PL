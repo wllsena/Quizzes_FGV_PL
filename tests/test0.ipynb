{
 "cells": [
  {
   "cell_type": "code",
   "execution_count": null,
   "metadata": {},
   "outputs": [],
   "source": [
    "import sys\n",
    "sys.path.append('../broker')\n",
    "\n",
    "import correct\n",
    "\n",
    "correct.tests([\"soma\", \"sub\", \"divisao\", \"multiplicacao\"],\n",
    "              [[(1,7), (1,2), (9,0)],\n",
    "               [(2,8), (3,4), (8,0)],\n",
    "               [(3,9), (5,6), (7,0)],\n",
    "               [(4,0), (7,8), (6,0)]],\n",
    "              [2, 2, 3, 3])"
   ]
  }
 ],
 "metadata": {
  "kernelspec": {
   "display_name": "Python 3",
   "language": "python",
   "name": "python3"
  },
  "language_info": {
   "codemirror_mode": {
    "name": "ipython",
    "version": 3
   },
   "file_extension": ".py",
   "mimetype": "text/x-python",
   "name": "python",
   "nbconvert_exporter": "python",
   "pygments_lexer": "ipython3",
   "version": "3.7.4"
  }
 },
 "nbformat": 4,
 "nbformat_minor": 2
}
