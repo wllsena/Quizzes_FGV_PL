{
 "cells": [
  {
   "cell_type": "code",
   "execution_count": 1,
   "metadata": {},
   "outputs": [],
   "source": [
    "import sys\n",
    "sys.path.append('../broker')\n",
    "import correct\n",
    "import numpy as np"
   ]
  },
  {
   "cell_type": "code",
   "execution_count": 2,
   "metadata": {},
   "outputs": [],
   "source": [
    "t1 = correct.Test(\"quantidade\", 10/3, [15, 55, 1234567890, 0, 54])\n",
    "t2 = correct.Test(\"bola\", 10/3, [(3, \"azul\"), (0, \"azul\"), (10, \"amarelo\"), (823, \"vermelho\"), (1, \"vermelho\")]\n",
    "                  ,key = lambda a, b: type(b) != str and (type(b.peso()) == np.float64 or type(b.peso()) == float) and abs(a.peso() - b.peso()) < 0.1)\n",
    "\n",
    "ar1 = np.random.randint(1, 5, size=(4,4))\n",
    "ar2 = np.random.randint(1, 5, size=(5,5))\n",
    "ar3 = np.random.randint(1, 5, size=(5,4))\n",
    "ar4 = np.random.randint(1, 5, size=(4,5))\n",
    "ar5 = np.random.randint(1, 5, size=(6,6))\n",
    "\n",
    "t3 = correct.Test(\"borda\", 10/3, [ar1,ar2,ar3,ar4,ar5], key = lambda a, b: (type(b) == np.float64 or type(b) == float) and np.abs(a - b) < 0.1)"
   ]
  },
  {
   "cell_type": "code",
   "execution_count": 3,
   "metadata": {},
   "outputs": [],
   "source": [
    "report = correct.report([t1,t2,t3])"
   ]
  },
  {
   "cell_type": "code",
   "execution_count": 4,
   "metadata": {
    "scrolled": true
   },
   "outputs": [
    {
     "name": "stdout",
     "output_type": "stream",
     "text": [
      "113.21033723999999\n",
      "113.21033723999999\n",
      "113.21033723999999\n",
      "0.0\n",
      "0.0\n",
      "0.0\n",
      "4191.299938666666\n",
      "4191.299938666666\n",
      "4191.299938666666\n",
      "2335030175.7328634\n",
      "2335030175.7328634\n",
      "2335030175.7328634\n",
      "4.2264857466666665\n",
      "4.2264857466666665\n",
      "4.2264857466666665\n",
      "15\n",
      "113.21033723999999\n",
      "16.0\n",
      "113.21033723999999\n",
      "113.21033723999999\n",
      "113.21033723999999\n",
      "0.0\n",
      "0.0\n",
      "0.0\n",
      "4191.299938666666\n",
      "4191.299938666666\n",
      "4191.299938666666\n",
      "2335030175.7328634\n",
      "2335030175.7328634\n",
      "2335030175.7328634\n",
      "4.2264857466666665\n",
      "4.2264857466666665\n",
      "4.2264857466666665\n"
     ]
    },
    {
     "name": "stderr",
     "output_type": "stream",
     "text": [
      "IOPub data rate exceeded.\n",
      "The notebook server will temporarily stop sending output\n",
      "to the client in order to avoid crashing it.\n",
      "To change this limit, set the config variable\n",
      "`--NotebookApp.iopub_data_rate_limit`.\n",
      "\n",
      "Current values:\n",
      "NotebookApp.iopub_data_rate_limit=1000000.0 (bytes/sec)\n",
      "NotebookApp.rate_limit_window=3.0 (secs)\n",
      "\n"
     ]
    },
    {
     "name": "stdout",
     "output_type": "stream",
     "text": [
      "0\n",
      "[]\n",
      "3.0\n",
      "[[50.0], [2.0, 2.0]]\n",
      "[4, 3, 3, 4, 2, 2, 3, 3, 2, 2, 2, 3]\n",
      "\n",
      "[2, 3, 1, 1]\n",
      "\n",
      "5.5\n",
      "[3, 1, 1, 1, 3, 4, 1, 2, 3, 3, 2, 4, 3, 4, 2, 1]\n",
      "\n",
      "[3, 4, 4, 1, 4, 2, 1, 1, 1]\n",
      "\n",
      "0.09895833333333333\n",
      "[2, 2, 4, 2, 3, 1, 3, 4, 1, 4, 3, 1, 4, 3]\n",
      "\n",
      "[1, 1, 2, 3, 4, 4]\n",
      "\n",
      "0.3854166666666667\n",
      "[1, 2, 4, 3, 4, 4, 1, 1, 2, 4, 2, 1, 2, 3]\n",
      "\n",
      "[4, 3, 2, 3, 3, 2]\n",
      "\n",
      "0.0787037037037037\n",
      "[4, 2, 3, 2, 2, 3, 1, 4, 2, 2, 4, 3, 4, 1, 1, 1, 3, 2, 3, 1]\n",
      "\n",
      "[1, 2, 4, 2, 1, 2, 4, 2, 4, 1, 2, 1, 4, 2, 2, 4]\n",
      "\n",
      "0.0003662109375\n",
      "1.2380952380952381\n"
     ]
    }
   ],
   "source": [
    "report.get_grade()"
   ]
  },
  {
   "cell_type": "code",
   "execution_count": 5,
   "metadata": {},
   "outputs": [],
   "source": [
    "report.get_report()"
   ]
  },
  {
   "cell_type": "code",
   "execution_count": 6,
   "metadata": {},
   "outputs": [],
   "source": [
    "report.write_reports()"
   ]
  },
  {
   "cell_type": "code",
   "execution_count": 7,
   "metadata": {},
   "outputs": [],
   "source": [
    "report.push_reports()"
   ]
  },
  {
   "cell_type": "code",
   "execution_count": null,
   "metadata": {},
   "outputs": [],
   "source": []
  }
 ],
 "metadata": {
  "kernelspec": {
   "display_name": "Python 3",
   "language": "python",
   "name": "python3"
  },
  "language_info": {
   "codemirror_mode": {
    "name": "ipython",
    "version": 3
   },
   "file_extension": ".py",
   "mimetype": "text/x-python",
   "name": "python",
   "nbconvert_exporter": "python",
   "pygments_lexer": "ipython3",
   "version": "3.7.4"
  }
 },
 "nbformat": 4,
 "nbformat_minor": 2
}
